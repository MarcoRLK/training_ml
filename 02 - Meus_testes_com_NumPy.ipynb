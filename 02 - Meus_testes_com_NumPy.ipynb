{
 "cells": [
  {
   "cell_type": "code",
   "execution_count": 2,
   "id": "c5cd940f",
   "metadata": {},
   "outputs": [],
   "source": [
    "import numpy as np"
   ]
  },
  {
   "cell_type": "markdown",
   "id": "4178c55b",
   "metadata": {},
   "source": [
    "# Não confundir\n",
    "    np.arange(0, 10, 3) -> o 3 é o step\n",
    "\n",
    "    np.linspace(0, 10, 3) -> o 3 é o nº de elementos"
   ]
  },
  {
   "cell_type": "code",
   "execution_count": 2,
   "id": "873a3181",
   "metadata": {},
   "outputs": [
    {
     "data": {
      "text/plain": [
       "array([0, 3, 6, 9])"
      ]
     },
     "execution_count": 2,
     "metadata": {},
     "output_type": "execute_result"
    }
   ],
   "source": [
    "np.arange(0, 10, 3)"
   ]
  },
  {
   "cell_type": "code",
   "execution_count": 3,
   "id": "e7a9639e",
   "metadata": {},
   "outputs": [
    {
     "data": {
      "text/plain": [
       "array([ 0. ,  2.5,  5. ,  7.5, 10. ])"
      ]
     },
     "execution_count": 3,
     "metadata": {},
     "output_type": "execute_result"
    }
   ],
   "source": [
    "np.linspace(0, 10, 5)"
   ]
  },
  {
   "cell_type": "code",
   "execution_count": 4,
   "id": "9e1be6c2",
   "metadata": {},
   "outputs": [
    {
     "data": {
      "text/plain": [
       "array([0, 1, 2, 3, 4, 5, 6, 7, 8, 9])"
      ]
     },
     "execution_count": 4,
     "metadata": {},
     "output_type": "execute_result"
    }
   ],
   "source": [
    "np.arange(10)"
   ]
  },
  {
   "cell_type": "code",
   "execution_count": 5,
   "id": "0130aa34",
   "metadata": {},
   "outputs": [
    {
     "data": {
      "text/plain": [
       "array([[-0.42442996, -1.27612979,  1.01133276, -0.98112076],\n",
       "       [-1.36065771,  0.21061685, -0.06423917, -0.1035857 ]])"
      ]
     },
     "execution_count": 5,
     "metadata": {},
     "output_type": "execute_result"
    }
   ],
   "source": [
    "# valor randômico tirado de uma distribuição normal padrão N(0, 1) -> média=0, var=1\n",
    "# como é normal pradrão, os valores não estão limitados a [-1, 1]\n",
    "np.random.randn(2,4)"
   ]
  },
  {
   "cell_type": "code",
   "execution_count": 8,
   "id": "2b30782c",
   "metadata": {},
   "outputs": [
    {
     "data": {
      "text/plain": [
       "array([[94, 83, 62],\n",
       "       [82, 88, 25]])"
      ]
     },
     "execution_count": 8,
     "metadata": {},
     "output_type": "execute_result"
    }
   ],
   "source": [
    "#algumas funções exigem que você passe o tamanho da matriz/vetor por tupla, outras não exiem isso\n",
    "np.random.randint(0, 100, (2, 3))"
   ]
  },
  {
   "cell_type": "code",
   "execution_count": 9,
   "id": "7b208d02",
   "metadata": {},
   "outputs": [],
   "source": [
    "arr = np.arange(0, 50)"
   ]
  },
  {
   "cell_type": "code",
   "execution_count": 10,
   "id": "8c49b446",
   "metadata": {},
   "outputs": [
    {
     "data": {
      "text/plain": [
       "array([ 0,  1,  2,  3,  4,  5,  6,  7,  8,  9, 10, 11, 12, 13, 14, 15, 16,\n",
       "       17, 18, 19, 20, 21, 22, 23, 24, 25, 26, 27, 28, 29, 30, 31, 32, 33,\n",
       "       34, 35, 36, 37, 38, 39, 40, 41, 42, 43, 44, 45, 46, 47, 48, 49])"
      ]
     },
     "execution_count": 10,
     "metadata": {},
     "output_type": "execute_result"
    }
   ],
   "source": [
    "arr"
   ]
  },
  {
   "cell_type": "code",
   "execution_count": 11,
   "id": "a17a3ee4",
   "metadata": {},
   "outputs": [
    {
     "data": {
      "text/plain": [
       "array([[ 0,  1,  2,  3,  4,  5,  6,  7,  8,  9],\n",
       "       [10, 11, 12, 13, 14, 15, 16, 17, 18, 19],\n",
       "       [20, 21, 22, 23, 24, 25, 26, 27, 28, 29],\n",
       "       [30, 31, 32, 33, 34, 35, 36, 37, 38, 39],\n",
       "       [40, 41, 42, 43, 44, 45, 46, 47, 48, 49]])"
      ]
     },
     "execution_count": 11,
     "metadata": {},
     "output_type": "execute_result"
    }
   ],
   "source": [
    "arr.reshape(5, 10)"
   ]
  },
  {
   "cell_type": "markdown",
   "id": "dc65c9d3",
   "metadata": {},
   "source": [
    "# Diferença importante entre lista x np array\n",
    "    qualquer mudança num slice de um array reflete na array original\n",
    "    isso não acontece em uma lista normal do python\n",
    "    EM SUMA: um slice de um array não é uma cópia daquele pedaço, mas apenas uma view da array completa\n",
    "    se você quiser uma cópia, use copia_da_array = array.copy()"
   ]
  },
  {
   "cell_type": "code",
   "execution_count": 12,
   "id": "b9bcff51",
   "metadata": {},
   "outputs": [],
   "source": [
    "# Lista python normal\n",
    "teste = [0, 1,2,3, 4, 5, 6, 7, 8, 9]"
   ]
  },
  {
   "cell_type": "code",
   "execution_count": 13,
   "id": "88700252",
   "metadata": {},
   "outputs": [],
   "source": [
    "a = teste[0:6]"
   ]
  },
  {
   "cell_type": "code",
   "execution_count": 14,
   "id": "b7d58cc6",
   "metadata": {},
   "outputs": [],
   "source": [
    "a = [1, 1, 1, 1, 1]"
   ]
  },
  {
   "cell_type": "code",
   "execution_count": 15,
   "id": "d98fcc6f",
   "metadata": {},
   "outputs": [
    {
     "data": {
      "text/plain": [
       "[0, 1, 2, 3, 4, 5, 6, 7, 8, 9]"
      ]
     },
     "execution_count": 15,
     "metadata": {},
     "output_type": "execute_result"
    }
   ],
   "source": [
    "teste"
   ]
  },
  {
   "cell_type": "code",
   "execution_count": 16,
   "id": "36570521",
   "metadata": {},
   "outputs": [],
   "source": [
    "# array NumPy\n",
    "teste_np = np.arange(0, 10)"
   ]
  },
  {
   "cell_type": "code",
   "execution_count": 17,
   "id": "eeb53cd7",
   "metadata": {},
   "outputs": [],
   "source": [
    "slice_teste = teste_np[0:6]"
   ]
  },
  {
   "cell_type": "code",
   "execution_count": 18,
   "id": "7e7e062c",
   "metadata": {},
   "outputs": [],
   "source": [
    "slice_teste[:] = 5"
   ]
  },
  {
   "cell_type": "code",
   "execution_count": 19,
   "id": "fc0636ec",
   "metadata": {},
   "outputs": [
    {
     "data": {
      "text/plain": [
       "array([5, 5, 5, 5, 5, 5, 6, 7, 8, 9])"
      ]
     },
     "execution_count": 19,
     "metadata": {},
     "output_type": "execute_result"
    }
   ],
   "source": [
    "teste_np"
   ]
  },
  {
   "cell_type": "code",
   "execution_count": 20,
   "id": "b28b76b1",
   "metadata": {},
   "outputs": [],
   "source": [
    "a = teste_np[8:9]"
   ]
  },
  {
   "cell_type": "code",
   "execution_count": 21,
   "id": "59c44439",
   "metadata": {},
   "outputs": [
    {
     "data": {
      "text/plain": [
       "array([8])"
      ]
     },
     "execution_count": 21,
     "metadata": {},
     "output_type": "execute_result"
    }
   ],
   "source": [
    "a"
   ]
  },
  {
   "cell_type": "code",
   "execution_count": 22,
   "id": "48000079",
   "metadata": {},
   "outputs": [],
   "source": [
    "a[:] = 9999"
   ]
  },
  {
   "cell_type": "code",
   "execution_count": 23,
   "id": "63764661",
   "metadata": {},
   "outputs": [
    {
     "data": {
      "text/plain": [
       "array([   5,    5,    5,    5,    5,    5,    6,    7, 9999,    9])"
      ]
     },
     "execution_count": 23,
     "metadata": {},
     "output_type": "execute_result"
    }
   ],
   "source": [
    "teste_np"
   ]
  },
  {
   "cell_type": "code",
   "execution_count": 24,
   "id": "89c620a5",
   "metadata": {},
   "outputs": [],
   "source": [
    "copia = teste_np.copy()"
   ]
  },
  {
   "cell_type": "code",
   "execution_count": 25,
   "id": "a7c2045c",
   "metadata": {},
   "outputs": [],
   "source": [
    "copia[:] = 0"
   ]
  },
  {
   "cell_type": "code",
   "execution_count": 26,
   "id": "f4221588",
   "metadata": {},
   "outputs": [
    {
     "data": {
      "text/plain": [
       "array([0, 0, 0, 0, 0, 0, 0, 0, 0, 0])"
      ]
     },
     "execution_count": 26,
     "metadata": {},
     "output_type": "execute_result"
    }
   ],
   "source": [
    "copia"
   ]
  },
  {
   "cell_type": "code",
   "execution_count": 27,
   "id": "a18c9358",
   "metadata": {},
   "outputs": [
    {
     "data": {
      "text/plain": [
       "array([   5,    5,    5,    5,    5,    5,    6,    7, 9999,    9])"
      ]
     },
     "execution_count": 27,
     "metadata": {},
     "output_type": "execute_result"
    }
   ],
   "source": [
    "teste_np"
   ]
  },
  {
   "cell_type": "markdown",
   "id": "19562de2",
   "metadata": {},
   "source": [
    "## pegando um pedaço de uma matriz"
   ]
  },
  {
   "cell_type": "code",
   "execution_count": 28,
   "id": "85b912ed",
   "metadata": {},
   "outputs": [
    {
     "data": {
      "text/plain": [
       "array([[0.62659205, 0.94652062, 0.49127525, 0.81129605, 0.37227127],\n",
       "       [0.19275355, 0.44005393, 0.13345161, 0.56055266, 0.07204338],\n",
       "       [0.40179694, 0.1347724 , 0.19748521, 0.04950028, 0.49527293],\n",
       "       [0.27485337, 0.54408185, 0.59005923, 0.48261489, 0.33107991],\n",
       "       [0.61008305, 0.32105622, 0.20230844, 0.1427638 , 0.72067217]])"
      ]
     },
     "execution_count": 28,
     "metadata": {},
     "output_type": "execute_result"
    }
   ],
   "source": [
    "matriz = np.random.rand(5, 5)\n",
    "matriz"
   ]
  },
  {
   "cell_type": "code",
   "execution_count": 29,
   "id": "4960d8b9",
   "metadata": {},
   "outputs": [
    {
     "data": {
      "text/plain": [
       "array([[0.62659205, 0.94652062, 0.49127525],\n",
       "       [0.19275355, 0.44005393, 0.13345161],\n",
       "       [0.40179694, 0.1347724 , 0.19748521]])"
      ]
     },
     "execution_count": 29,
     "metadata": {},
     "output_type": "execute_result"
    }
   ],
   "source": [
    "matriz[:3, :3]"
   ]
  },
  {
   "cell_type": "code",
   "execution_count": 30,
   "id": "ee5e57f6",
   "metadata": {},
   "outputs": [
    {
     "data": {
      "text/plain": [
       "array([[0.48261489, 0.33107991],\n",
       "       [0.1427638 , 0.72067217]])"
      ]
     },
     "execution_count": 30,
     "metadata": {},
     "output_type": "execute_result"
    }
   ],
   "source": [
    "matriz[3:, 3:]"
   ]
  },
  {
   "cell_type": "markdown",
   "id": "9de4717d",
   "metadata": {},
   "source": [
    "# Seleção condicional em um Array\n",
    "    se parece com o filter em Listas\n",
    "    você cria uma condicional que retorna booleano\n",
    "    e depois usa para filtrar valores"
   ]
  },
  {
   "cell_type": "code",
   "execution_count": 38,
   "id": "1567fff0",
   "metadata": {},
   "outputs": [],
   "source": [
    "arr = np.arange(0, 11)"
   ]
  },
  {
   "cell_type": "code",
   "execution_count": 40,
   "id": "fafaae77",
   "metadata": {},
   "outputs": [
    {
     "data": {
      "text/plain": [
       "array([0, 3, 6, 9])"
      ]
     },
     "execution_count": 40,
     "metadata": {},
     "output_type": "execute_result"
    }
   ],
   "source": [
    "arr[arr%3==0]"
   ]
  },
  {
   "cell_type": "markdown",
   "id": "5cb35fd5",
   "metadata": {},
   "source": [
    "## relembando do filter"
   ]
  },
  {
   "cell_type": "code",
   "execution_count": 41,
   "id": "3ec16bdd",
   "metadata": {},
   "outputs": [
    {
     "data": {
      "text/plain": [
       "[0, 3, 6, 9]"
      ]
     },
     "execution_count": 41,
     "metadata": {},
     "output_type": "execute_result"
    }
   ],
   "source": [
    "minha_lista = [0, 1, 2, 3, 4, 5, 6, 7, 8, 9]\n",
    "list(filter(lambda num:num%3==0, minha_lista))"
   ]
  },
  {
   "cell_type": "markdown",
   "id": "544c20a4",
   "metadata": {},
   "source": [
    "# OPERAÇÕES\n",
    "comparando lista com array "
   ]
  },
  {
   "cell_type": "code",
   "execution_count": 45,
   "id": "81ed7102",
   "metadata": {},
   "outputs": [],
   "source": [
    "a = list[1, 2, 2,3, 4, 5]"
   ]
  },
  {
   "cell_type": "code",
   "execution_count": 48,
   "id": "d2f8e527",
   "metadata": {},
   "outputs": [],
   "source": [
    "# isso aqui não funciona com listas:\n",
    "# a + a"
   ]
  },
  {
   "cell_type": "code",
   "execution_count": 49,
   "id": "1c60ae8d",
   "metadata": {},
   "outputs": [
    {
     "data": {
      "text/plain": [
       "array([ 0,  2,  4,  6,  8, 10, 12, 14, 16, 18, 20])"
      ]
     },
     "execution_count": 49,
     "metadata": {},
     "output_type": "execute_result"
    }
   ],
   "source": [
    "# mas funciona com arrays\n",
    "arr = np.arange(0, 11)\n",
    "arr + arr"
   ]
  },
  {
   "cell_type": "code",
   "execution_count": 50,
   "id": "76c81656",
   "metadata": {},
   "outputs": [
    {
     "data": {
      "text/plain": [
       "array([ 0,  4,  8, 12, 16, 20, 24, 28, 32, 36, 40])"
      ]
     },
     "execution_count": 50,
     "metadata": {},
     "output_type": "execute_result"
    }
   ],
   "source": [
    "arr*4"
   ]
  },
  {
   "cell_type": "code",
   "execution_count": 51,
   "id": "322a2660",
   "metadata": {},
   "outputs": [
    {
     "data": {
      "text/plain": [
       "array([ 0,  1,  2,  3,  4,  5,  6,  7,  8,  9, 10,  0,  1,  2,  3,  4,  5,\n",
       "        6,  7,  8,  9, 10])"
      ]
     },
     "execution_count": 51,
     "metadata": {},
     "output_type": "execute_result"
    }
   ],
   "source": [
    "np.append(arr, arr) #coloca os elementos no final da array"
   ]
  },
  {
   "cell_type": "markdown",
   "id": "77d1a703",
   "metadata": {},
   "source": [
    "# Importante entender o insert do numpy"
   ]
  },
  {
   "cell_type": "code",
   "execution_count": 40,
   "id": "15790450",
   "metadata": {},
   "outputs": [
    {
     "data": {
      "text/plain": [
       "array([[0, 1, 2, 3, 4],\n",
       "       [5, 6, 7, 8, 9]])"
      ]
     },
     "execution_count": 40,
     "metadata": {},
     "output_type": "execute_result"
    }
   ],
   "source": [
    "arr_2 = np.arange(0,10).reshape(2,5)\n",
    "arr_2"
   ]
  },
  {
   "cell_type": "code",
   "execution_count": 41,
   "id": "b4150f2a",
   "metadata": {},
   "outputs": [
    {
     "data": {
      "text/plain": [
       "array([   0,    1,    2,    3,    4,    5,    6,    7,    8,    9,   10,\n",
       "       2000])"
      ]
     },
     "execution_count": 41,
     "metadata": {},
     "output_type": "execute_result"
    }
   ],
   "source": [
    "np.insert(arr, 11, 2000, axis=0)\n",
    "# no insert, você precisa especificar o index do dado inserido\n",
    "# e essa operação não é persistente"
   ]
  },
  {
   "cell_type": "code",
   "execution_count": 46,
   "id": "9382bb23",
   "metadata": {},
   "outputs": [
    {
     "data": {
      "text/plain": [
       "array([[  0, 999,   1,   2,   3,   4],\n",
       "       [  5, 888,   6,   7,   8,   9]])"
      ]
     },
     "execution_count": 46,
     "metadata": {},
     "output_type": "execute_result"
    }
   ],
   "source": [
    "## este insert ajuda a entender bem o argumento 'axis'\n",
    "\n",
    "np.insert(arr_2, 1, [999, 888], axis=1) "
   ]
  },
  {
   "cell_type": "code",
   "execution_count": 47,
   "id": "a86fea07",
   "metadata": {},
   "outputs": [
    {
     "data": {
      "text/plain": [
       "array([[  0,   1,   2,   3,   4],\n",
       "       [999, 999, 999, 999, 999],\n",
       "       [  5,   6,   7,   8,   9]])"
      ]
     },
     "execution_count": 47,
     "metadata": {},
     "output_type": "execute_result"
    }
   ],
   "source": [
    "np.insert(arr_2, 1, 999, axis=0)"
   ]
  },
  {
   "cell_type": "markdown",
   "id": "3a4e5ed3",
   "metadata": {},
   "source": [
    "# Universal Operarions or Functions\n",
    "    ufunc\n",
    "    https://numpy.org/doc/stable/reference/ufuncs.html"
   ]
  },
  {
   "cell_type": "code",
   "execution_count": null,
   "id": "67c93bc5",
   "metadata": {},
   "outputs": [],
   "source": []
  }
 ],
 "metadata": {
  "kernelspec": {
   "display_name": "Python 3 (ipykernel)",
   "language": "python",
   "name": "python3"
  },
  "language_info": {
   "codemirror_mode": {
    "name": "ipython",
    "version": 3
   },
   "file_extension": ".py",
   "mimetype": "text/x-python",
   "name": "python",
   "nbconvert_exporter": "python",
   "pygments_lexer": "ipython3",
   "version": "3.9.5"
  }
 },
 "nbformat": 4,
 "nbformat_minor": 5
}
