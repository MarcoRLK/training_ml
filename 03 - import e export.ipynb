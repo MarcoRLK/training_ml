{
 "cells": [
  {
   "cell_type": "code",
   "execution_count": 1,
   "id": "fcd2afd2",
   "metadata": {},
   "outputs": [],
   "source": [
    "import pandas as pd\n",
    "import numpy as np"
   ]
  },
  {
   "cell_type": "code",
   "execution_count": 2,
   "id": "6113151d",
   "metadata": {},
   "outputs": [
    {
     "data": {
      "text/plain": [
       "'/home/marco/Documents/training_ml'"
      ]
     },
     "execution_count": 2,
     "metadata": {},
     "output_type": "execute_result"
    }
   ],
   "source": [
    "pwd"
   ]
  },
  {
   "cell_type": "code",
   "execution_count": 5,
   "id": "41cc2a8e",
   "metadata": {},
   "outputs": [
    {
     "data": {
      "text/html": [
       "<div>\n",
       "<style scoped>\n",
       "    .dataframe tbody tr th:only-of-type {\n",
       "        vertical-align: middle;\n",
       "    }\n",
       "\n",
       "    .dataframe tbody tr th {\n",
       "        vertical-align: top;\n",
       "    }\n",
       "\n",
       "    .dataframe thead th {\n",
       "        text-align: right;\n",
       "    }\n",
       "</style>\n",
       "<table border=\"1\" class=\"dataframe\">\n",
       "  <thead>\n",
       "    <tr style=\"text-align: right;\">\n",
       "      <th></th>\n",
       "      <th>a</th>\n",
       "      <th>b</th>\n",
       "      <th>c</th>\n",
       "      <th>d</th>\n",
       "    </tr>\n",
       "  </thead>\n",
       "  <tbody>\n",
       "    <tr>\n",
       "      <th>0</th>\n",
       "      <td>0</td>\n",
       "      <td>1</td>\n",
       "      <td>2</td>\n",
       "      <td>3</td>\n",
       "    </tr>\n",
       "    <tr>\n",
       "      <th>1</th>\n",
       "      <td>4</td>\n",
       "      <td>5</td>\n",
       "      <td>6</td>\n",
       "      <td>7</td>\n",
       "    </tr>\n",
       "    <tr>\n",
       "      <th>2</th>\n",
       "      <td>8</td>\n",
       "      <td>9</td>\n",
       "      <td>10</td>\n",
       "      <td>11</td>\n",
       "    </tr>\n",
       "    <tr>\n",
       "      <th>3</th>\n",
       "      <td>12</td>\n",
       "      <td>13</td>\n",
       "      <td>14</td>\n",
       "      <td>15</td>\n",
       "    </tr>\n",
       "  </tbody>\n",
       "</table>\n",
       "</div>"
      ],
      "text/plain": [
       "    a   b   c   d\n",
       "0   0   1   2   3\n",
       "1   4   5   6   7\n",
       "2   8   9  10  11\n",
       "3  12  13  14  15"
      ]
     },
     "execution_count": 5,
     "metadata": {},
     "output_type": "execute_result"
    }
   ],
   "source": [
    "pd.read_csv('../Refactored_Py_DS_ML_Bootcamp-master/03-Python-for-Data-Analysis-Pandas/example')"
   ]
  },
  {
   "cell_type": "code",
   "execution_count": 25,
   "id": "1977af39",
   "metadata": {},
   "outputs": [
    {
     "data": {
      "text/html": [
       "<div>\n",
       "<style scoped>\n",
       "    .dataframe tbody tr th:only-of-type {\n",
       "        vertical-align: middle;\n",
       "    }\n",
       "\n",
       "    .dataframe tbody tr th {\n",
       "        vertical-align: top;\n",
       "    }\n",
       "\n",
       "    .dataframe thead th {\n",
       "        text-align: right;\n",
       "    }\n",
       "</style>\n",
       "<table border=\"1\" class=\"dataframe\">\n",
       "  <thead>\n",
       "    <tr style=\"text-align: right;\">\n",
       "      <th></th>\n",
       "      <th>first</th>\n",
       "      <th>bar</th>\n",
       "      <th>bar.1</th>\n",
       "      <th>baz</th>\n",
       "      <th>baz.1</th>\n",
       "      <th>foo</th>\n",
       "      <th>foo.1</th>\n",
       "      <th>qux</th>\n",
       "      <th>qux.1</th>\n",
       "    </tr>\n",
       "  </thead>\n",
       "  <tbody>\n",
       "    <tr>\n",
       "      <th>0</th>\n",
       "      <td>second</td>\n",
       "      <td>one</td>\n",
       "      <td>two</td>\n",
       "      <td>one</td>\n",
       "      <td>two</td>\n",
       "      <td>one</td>\n",
       "      <td>two</td>\n",
       "      <td>one</td>\n",
       "      <td>two</td>\n",
       "    </tr>\n",
       "    <tr>\n",
       "      <th>1</th>\n",
       "      <td>NaN</td>\n",
       "      <td>NaN</td>\n",
       "      <td>NaN</td>\n",
       "      <td>NaN</td>\n",
       "      <td>NaN</td>\n",
       "      <td>NaN</td>\n",
       "      <td>NaN</td>\n",
       "      <td>NaN</td>\n",
       "      <td>NaN</td>\n",
       "    </tr>\n",
       "    <tr>\n",
       "      <th>2</th>\n",
       "      <td>A</td>\n",
       "      <td>1.025984152081572</td>\n",
       "      <td>-0.1565979042889875</td>\n",
       "      <td>-0.031579143908112575</td>\n",
       "      <td>0.6498258334908454</td>\n",
       "      <td>2.154846443259472</td>\n",
       "      <td>-0.6102588558227414</td>\n",
       "      <td>-0.755325340010558</td>\n",
       "      <td>-0.34641850351854453</td>\n",
       "    </tr>\n",
       "    <tr>\n",
       "      <th>3</th>\n",
       "      <td>B</td>\n",
       "      <td>0.1470267713241236</td>\n",
       "      <td>-0.47944803904109595</td>\n",
       "      <td>0.558769406443067</td>\n",
       "      <td>1.0248102783372157</td>\n",
       "      <td>-0.925874258809907</td>\n",
       "      <td>1.8628641384939535</td>\n",
       "      <td>-1.1338171615837889</td>\n",
       "      <td>0.6104779075384634</td>\n",
       "    </tr>\n",
       "    <tr>\n",
       "      <th>4</th>\n",
       "      <td>C</td>\n",
       "      <td>0.3860303121135517</td>\n",
       "      <td>2.084018530338962</td>\n",
       "      <td>-0.37651867524923904</td>\n",
       "      <td>0.23033634359240704</td>\n",
       "      <td>0.6812092925867574</td>\n",
       "      <td>1.0351250747739213</td>\n",
       "      <td>-0.031160481493099617</td>\n",
       "      <td>1.9399323109926203</td>\n",
       "    </tr>\n",
       "  </tbody>\n",
       "</table>\n",
       "</div>"
      ],
      "text/plain": [
       "    first                 bar                 bar.1                    baz  \\\n",
       "0  second                 one                   two                    one   \n",
       "1     NaN                 NaN                   NaN                    NaN   \n",
       "2       A   1.025984152081572   -0.1565979042889875  -0.031579143908112575   \n",
       "3       B  0.1470267713241236  -0.47944803904109595      0.558769406443067   \n",
       "4       C  0.3860303121135517     2.084018530338962   -0.37651867524923904   \n",
       "\n",
       "                 baz.1                 foo                foo.1  \\\n",
       "0                  two                 one                  two   \n",
       "1                  NaN                 NaN                  NaN   \n",
       "2   0.6498258334908454   2.154846443259472  -0.6102588558227414   \n",
       "3   1.0248102783372157  -0.925874258809907   1.8628641384939535   \n",
       "4  0.23033634359240704  0.6812092925867574   1.0351250747739213   \n",
       "\n",
       "                     qux                 qux.1  \n",
       "0                    one                   two  \n",
       "1                    NaN                   NaN  \n",
       "2     -0.755325340010558  -0.34641850351854453  \n",
       "3    -1.1338171615837889    0.6104779075384634  \n",
       "4  -0.031160481493099617    1.9399323109926203  "
      ]
     },
     "execution_count": 25,
     "metadata": {},
     "output_type": "execute_result"
    }
   ],
   "source": [
    "pd.read_csv('../Refactored_Py_DS_ML_Bootcamp-master/03-Python-for-Data-Analysis-Pandas/multi_index_example')"
   ]
  },
  {
   "cell_type": "code",
   "execution_count": 26,
   "id": "ad1a156c",
   "metadata": {},
   "outputs": [],
   "source": [
    "data = pd.read_html('https://www.w3schools.com/html/html_tables.asp')"
   ]
  },
  {
   "cell_type": "code",
   "execution_count": 27,
   "id": "4f4ba766",
   "metadata": {},
   "outputs": [],
   "source": [
    "df = data[0]"
   ]
  },
  {
   "cell_type": "markdown",
   "id": "a828c786",
   "metadata": {},
   "source": [
    "# essa solução não é considerada ideal par ler SQL\n",
    "    para ler SQL, é recomendável pesquisar a biblioteca específica para o banco que você está trabalhando. Pandas não é a melhor ferramenta para isso, ele apenas quebra um galho\n",
    "\n",
    "    Ex:\n",
    "    postres -> psycopg2\n",
    "    mysql -> pymysql"
   ]
  },
  {
   "cell_type": "code",
   "execution_count": 29,
   "id": "1a64073a",
   "metadata": {},
   "outputs": [
    {
     "data": {
      "text/html": [
       "<div>\n",
       "<style scoped>\n",
       "    .dataframe tbody tr th:only-of-type {\n",
       "        vertical-align: middle;\n",
       "    }\n",
       "\n",
       "    .dataframe tbody tr th {\n",
       "        vertical-align: top;\n",
       "    }\n",
       "\n",
       "    .dataframe thead th {\n",
       "        text-align: right;\n",
       "    }\n",
       "</style>\n",
       "<table border=\"1\" class=\"dataframe\">\n",
       "  <thead>\n",
       "    <tr style=\"text-align: right;\">\n",
       "      <th></th>\n",
       "      <th>index</th>\n",
       "      <th>Company</th>\n",
       "      <th>Contact</th>\n",
       "      <th>Country</th>\n",
       "    </tr>\n",
       "  </thead>\n",
       "  <tbody>\n",
       "    <tr>\n",
       "      <th>0</th>\n",
       "      <td>0</td>\n",
       "      <td>Alfreds Futterkiste</td>\n",
       "      <td>Maria Anders</td>\n",
       "      <td>Germany</td>\n",
       "    </tr>\n",
       "    <tr>\n",
       "      <th>1</th>\n",
       "      <td>1</td>\n",
       "      <td>Centro comercial Moctezuma</td>\n",
       "      <td>Francisco Chang</td>\n",
       "      <td>Mexico</td>\n",
       "    </tr>\n",
       "    <tr>\n",
       "      <th>2</th>\n",
       "      <td>2</td>\n",
       "      <td>Ernst Handel</td>\n",
       "      <td>Roland Mendel</td>\n",
       "      <td>Austria</td>\n",
       "    </tr>\n",
       "    <tr>\n",
       "      <th>3</th>\n",
       "      <td>3</td>\n",
       "      <td>Island Trading</td>\n",
       "      <td>Helen Bennett</td>\n",
       "      <td>UK</td>\n",
       "    </tr>\n",
       "    <tr>\n",
       "      <th>4</th>\n",
       "      <td>4</td>\n",
       "      <td>Laughing Bacchus Winecellars</td>\n",
       "      <td>Yoshi Tannamuri</td>\n",
       "      <td>Canada</td>\n",
       "    </tr>\n",
       "    <tr>\n",
       "      <th>5</th>\n",
       "      <td>5</td>\n",
       "      <td>Magazzini Alimentari Riuniti</td>\n",
       "      <td>Giovanni Rovelli</td>\n",
       "      <td>Italy</td>\n",
       "    </tr>\n",
       "  </tbody>\n",
       "</table>\n",
       "</div>"
      ],
      "text/plain": [
       "   index                       Company           Contact  Country\n",
       "0      0           Alfreds Futterkiste      Maria Anders  Germany\n",
       "1      1    Centro comercial Moctezuma   Francisco Chang   Mexico\n",
       "2      2                  Ernst Handel     Roland Mendel  Austria\n",
       "3      3                Island Trading     Helen Bennett       UK\n",
       "4      4  Laughing Bacchus Winecellars   Yoshi Tannamuri   Canada\n",
       "5      5  Magazzini Alimentari Riuniti  Giovanni Rovelli    Italy"
      ]
     },
     "execution_count": 29,
     "metadata": {},
     "output_type": "execute_result"
    }
   ],
   "source": [
    "from sqlalchemy import create_engine\n",
    "\n",
    "engine = create_engine('sqlite:///:memory:')\n",
    "df.to_sql('data', engine)\n",
    "sql_df = pd.read_sql('data',con=engine)\n",
    "sql_df"
   ]
  },
  {
   "cell_type": "code",
   "execution_count": null,
   "id": "420c1b92",
   "metadata": {},
   "outputs": [],
   "source": []
  },
  {
   "cell_type": "code",
   "execution_count": null,
   "id": "9d7336a1",
   "metadata": {},
   "outputs": [],
   "source": []
  }
 ],
 "metadata": {
  "kernelspec": {
   "display_name": "Python 3 (ipykernel)",
   "language": "python",
   "name": "python3"
  },
  "language_info": {
   "codemirror_mode": {
    "name": "ipython",
    "version": 3
   },
   "file_extension": ".py",
   "mimetype": "text/x-python",
   "name": "python",
   "nbconvert_exporter": "python",
   "pygments_lexer": "ipython3",
   "version": "3.9.5"
  }
 },
 "nbformat": 4,
 "nbformat_minor": 5
}
