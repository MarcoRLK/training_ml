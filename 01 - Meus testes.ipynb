{
 "cells": [
  {
   "cell_type": "code",
   "execution_count": 21,
   "id": "dc8b54d6",
   "metadata": {},
   "outputs": [
    {
     "name": "stdout",
     "output_type": "stream",
     "text": [
      "teste\n"
     ]
    }
   ],
   "source": [
    "print('teste')"
   ]
  },
  {
   "cell_type": "code",
   "execution_count": 22,
   "id": "cb5b95e1",
   "metadata": {},
   "outputs": [],
   "source": [
    "a = 1\n",
    "b = 2"
   ]
  },
  {
   "cell_type": "code",
   "execution_count": 23,
   "id": "36f9aeb7",
   "metadata": {},
   "outputs": [
    {
     "name": "stdout",
     "output_type": "stream",
     "text": [
      "a é menor que b\n"
     ]
    }
   ],
   "source": [
    "if a == b:\n",
    "    print ('a é igual a b')\n",
    "elif a < b:\n",
    "    print ('a é menor que b')"
   ]
  },
  {
   "cell_type": "code",
   "execution_count": 38,
   "id": "5832ead5",
   "metadata": {},
   "outputs": [],
   "source": [
    "a = 0.9999999999999999999999999999999999999999999999"
   ]
  },
  {
   "cell_type": "code",
   "execution_count": 41,
   "id": "78a353af",
   "metadata": {},
   "outputs": [
    {
     "data": {
      "text/plain": [
       "3.001"
      ]
     },
     "execution_count": 41,
     "metadata": {},
     "output_type": "execute_result"
    }
   ],
   "source": [
    "a + 2.001"
   ]
  },
  {
   "cell_type": "code",
   "execution_count": 42,
   "id": "38573c89",
   "metadata": {},
   "outputs": [
    {
     "data": {
      "text/plain": [
       "'teste com \"aspas\" é assim '"
      ]
     },
     "execution_count": 42,
     "metadata": {},
     "output_type": "execute_result"
    }
   ],
   "source": [
    "'teste com \"aspas\" é assim '"
   ]
  },
  {
   "cell_type": "code",
   "execution_count": 60,
   "id": "4fdadc2a",
   "metadata": {},
   "outputs": [
    {
     "data": {
      "text/plain": [
       "'novo teste de \"aspas\" assim'"
      ]
     },
     "execution_count": 60,
     "metadata": {},
     "output_type": "execute_result"
    }
   ],
   "source": [
    "\"novo teste de \\\"aspas\\\" assim\""
   ]
  },
  {
   "cell_type": "code",
   "execution_count": 74,
   "id": "0b402e8d",
   "metadata": {},
   "outputs": [
    {
     "name": "stdout",
     "output_type": "stream",
     "text": [
      "is \\ the backslash\n"
     ]
    }
   ],
   "source": [
    "print(r'is \\ the backslash')"
   ]
  },
  {
   "cell_type": "code",
   "execution_count": 75,
   "id": "db4af80b",
   "metadata": {},
   "outputs": [],
   "source": [
    "nome = 'marco'\n",
    "idade = 25"
   ]
  },
  {
   "cell_type": "code",
   "execution_count": 81,
   "id": "986c6965",
   "metadata": {},
   "outputs": [
    {
     "data": {
      "text/plain": [
       "'programa do marco de 25'"
      ]
     },
     "execution_count": 81,
     "metadata": {},
     "output_type": "execute_result"
    }
   ],
   "source": [
    "'programa do ' + nome + ' de ' + str(idade)"
   ]
  },
  {
   "cell_type": "code",
   "execution_count": 84,
   "id": "1ff4e4d2",
   "metadata": {},
   "outputs": [
    {
     "name": "stdout",
     "output_type": "stream",
     "text": [
      "meu nome é marco, e eu tenho 25 anos\n"
     ]
    }
   ],
   "source": [
    "print('meu nome é {meunome}, e eu tenho {minhaidade} anos'.format(minhaidade = idade, meunome=nome))"
   ]
  },
  {
   "cell_type": "code",
   "execution_count": 25,
   "id": "59d7ddd9",
   "metadata": {},
   "outputs": [
    {
     "data": {
      "text/plain": [
       "5.44444444444444"
      ]
     },
     "execution_count": 25,
     "metadata": {},
     "output_type": "execute_result"
    }
   ],
   "source": [
    "3 + 2.44444444444444"
   ]
  },
  {
   "cell_type": "code",
   "execution_count": 85,
   "id": "93fe980f",
   "metadata": {},
   "outputs": [],
   "source": [
    "listadeletras = 'abcdefg'"
   ]
  },
  {
   "cell_type": "code",
   "execution_count": 86,
   "id": "47282db2",
   "metadata": {},
   "outputs": [
    {
     "data": {
      "text/plain": [
       "'bcdef'"
      ]
     },
     "execution_count": 86,
     "metadata": {},
     "output_type": "execute_result"
    }
   ],
   "source": [
    "listadeletras[1:-1]"
   ]
  },
  {
   "cell_type": "code",
   "execution_count": 87,
   "id": "d1a81c9b",
   "metadata": {},
   "outputs": [],
   "source": [
    "d = {'key1': 123, 'nome': 'Marco'}    "
   ]
  },
  {
   "cell_type": "code",
   "execution_count": 99,
   "id": "6c2931d9",
   "metadata": {},
   "outputs": [
    {
     "name": "stdout",
     "output_type": "stream",
     "text": [
      "123\n"
     ]
    }
   ],
   "source": [
    "print(d.get('key1'))"
   ]
  },
  {
   "cell_type": "code",
   "execution_count": 102,
   "id": "d8421541",
   "metadata": {},
   "outputs": [
    {
     "data": {
      "text/plain": [
       "'Marco'"
      ]
     },
     "execution_count": 102,
     "metadata": {},
     "output_type": "execute_result"
    }
   ],
   "source": [
    "d['nome']"
   ]
  },
  {
   "cell_type": "code",
   "execution_count": 108,
   "id": "78ce6cce",
   "metadata": {},
   "outputs": [],
   "source": [
    "i = 5"
   ]
  },
  {
   "cell_type": "code",
   "execution_count": 109,
   "id": "e2a416f5",
   "metadata": {},
   "outputs": [
    {
     "name": "stdout",
     "output_type": "stream",
     "text": [
      "5\n",
      "4\n",
      "3\n",
      "2\n",
      "1\n"
     ]
    }
   ],
   "source": [
    "while i:\n",
    "    print(i)\n",
    "    i = i-1"
   ]
  },
  {
   "cell_type": "code",
   "execution_count": 116,
   "id": "acbdde47",
   "metadata": {},
   "outputs": [
    {
     "name": "stdout",
     "output_type": "stream",
     "text": [
      "10\n",
      "8\n",
      "6\n",
      "4\n",
      "2\n"
     ]
    }
   ],
   "source": [
    "for i in range(10,1,-2):\n",
    "    print(i)"
   ]
  },
  {
   "cell_type": "markdown",
   "id": "7b492cb5",
   "metadata": {},
   "source": [
    "# List Compreehension\n",
    "\n",
    "serve para fazer inserções com operações em uma lista"
   ]
  },
  {
   "cell_type": "code",
   "execution_count": 5,
   "id": "64aea0d2",
   "metadata": {},
   "outputs": [
    {
     "data": {
      "text/plain": [
       "[1, 4, 9, 16, 25, 36]"
      ]
     },
     "execution_count": 5,
     "metadata": {},
     "output_type": "execute_result"
    }
   ],
   "source": [
    "x = [1,2,3,4,5,6]\n",
    "[num**2 for num in x]"
   ]
  },
  {
   "cell_type": "code",
   "execution_count": 6,
   "id": "7a6dd7a4",
   "metadata": {},
   "outputs": [],
   "source": [
    "y = ['marco', 'laís', 'nessi']"
   ]
  },
  {
   "cell_type": "code",
   "execution_count": 7,
   "id": "ffa11709",
   "metadata": {},
   "outputs": [
    {
     "data": {
      "text/plain": [
       "['Marco', 'Laís', 'Nessi']"
      ]
     },
     "execution_count": 7,
     "metadata": {},
     "output_type": "execute_result"
    }
   ],
   "source": [
    "[nome.capitalize() for nome in y]"
   ]
  },
  {
   "cell_type": "code",
   "execution_count": 9,
   "id": "fcc81b02",
   "metadata": {},
   "outputs": [
    {
     "name": "stdout",
     "output_type": "stream",
     "text": [
      "marco\n",
      "laís\n",
      "nessi\n"
     ]
    },
    {
     "data": {
      "text/plain": [
       "[None, None, None]"
      ]
     },
     "execution_count": 9,
     "metadata": {},
     "output_type": "execute_result"
    }
   ],
   "source": [
    "[elemento. for elemento in y]"
   ]
  },
  {
   "cell_type": "code",
   "execution_count": 12,
   "id": "1a8283a3",
   "metadata": {},
   "outputs": [
    {
     "data": {
      "text/plain": [
       "[1, 2, 3, 4, 1, 2, 3, 4]"
      ]
     },
     "execution_count": 12,
     "metadata": {},
     "output_type": "execute_result"
    }
   ],
   "source": [
    "a = [1, 2, 3, 4]\n",
    "a*2"
   ]
  },
  {
   "cell_type": "code",
   "execution_count": 18,
   "id": "29d533b1",
   "metadata": {},
   "outputs": [],
   "source": [
    "b = [2, 3, 4]"
   ]
  },
  {
   "cell_type": "markdown",
   "id": "679499f1",
   "metadata": {},
   "source": [
    "# Função Map()\n",
    "    serve para aplicar uma função em cada item de uma lista\n",
    "    se parece muito com o List Comprehension, com a diferença que aqui não temos um 'for' de maneira explícita"
   ]
  },
  {
   "cell_type": "code",
   "execution_count": 16,
   "id": "c839c984",
   "metadata": {},
   "outputs": [],
   "source": [
    "def func_qualquer(num):\n",
    "    return num*2\n",
    "\n",
    "def func_qualquer_2(name):\n",
    "    name = name.strip()+' '+name.strip()\n",
    "    name = name.capitalize()\n",
    "    return name"
   ]
  },
  {
   "cell_type": "code",
   "execution_count": 17,
   "id": "2c3e7366",
   "metadata": {},
   "outputs": [],
   "source": [
    "a = [1,2, 3, 4]"
   ]
  },
  {
   "cell_type": "code",
   "execution_count": 18,
   "id": "e866f31b",
   "metadata": {},
   "outputs": [
    {
     "data": {
      "text/plain": [
       "[2, 4, 6, 8]"
      ]
     },
     "execution_count": 18,
     "metadata": {},
     "output_type": "execute_result"
    }
   ],
   "source": [
    "list(map(func_qualquer, a))"
   ]
  },
  {
   "cell_type": "code",
   "execution_count": 19,
   "id": "b88fb1fc",
   "metadata": {},
   "outputs": [
    {
     "data": {
      "text/plain": [
       "['Marco marco', 'Kuroiva kuroiva']"
      ]
     },
     "execution_count": 19,
     "metadata": {},
     "output_type": "execute_result"
    }
   ],
   "source": [
    "list(map(func_qualquer_2, ['      marco ', ' kuroivA   ']))"
   ]
  },
  {
   "cell_type": "markdown",
   "id": "68b820bd",
   "metadata": {},
   "source": [
    "# Lambda"
   ]
  },
  {
   "cell_type": "code",
   "execution_count": 20,
   "id": "fdb10efd",
   "metadata": {},
   "outputs": [],
   "source": [
    "def func_qualquer(var):return var**2"
   ]
  },
  {
   "cell_type": "code",
   "execution_count": 22,
   "id": "031c0ce1",
   "metadata": {},
   "outputs": [],
   "source": [
    "funcao_lambda = lambda var:var**2"
   ]
  },
  {
   "cell_type": "code",
   "execution_count": 28,
   "id": "fd809a95",
   "metadata": {},
   "outputs": [
    {
     "data": {
      "text/plain": [
       "4"
      ]
     },
     "execution_count": 28,
     "metadata": {},
     "output_type": "execute_result"
    }
   ],
   "source": [
    "funcao_lambda(2)"
   ]
  },
  {
   "cell_type": "markdown",
   "id": "2acc900e",
   "metadata": {},
   "source": [
    "## Usando lambda dentro de um Map()"
   ]
  },
  {
   "cell_type": "code",
   "execution_count": 26,
   "id": "e48d07bc",
   "metadata": {},
   "outputs": [
    {
     "data": {
      "text/plain": [
       "[1, 4, 9, 16]"
      ]
     },
     "execution_count": 26,
     "metadata": {},
     "output_type": "execute_result"
    }
   ],
   "source": [
    "list(map(lambda var:var**2, [1, 2,3, 4]))"
   ]
  },
  {
   "cell_type": "markdown",
   "id": "7697a238",
   "metadata": {},
   "source": [
    "# Filter\n",
    "    é parecido com o map(), e deve ser usado junto com uma função que retorne um booleano para filtrar itens de uma lista"
   ]
  },
  {
   "cell_type": "code",
   "execution_count": 30,
   "id": "40d5f14b",
   "metadata": {},
   "outputs": [],
   "source": [
    "minha_lista = [1, 2, 3, 4, 5, 6, 7, 8, 9]"
   ]
  },
  {
   "cell_type": "code",
   "execution_count": 31,
   "id": "c2d46a2a",
   "metadata": {},
   "outputs": [
    {
     "data": {
      "text/plain": [
       "[3, 6, 9]"
      ]
     },
     "execution_count": 31,
     "metadata": {},
     "output_type": "execute_result"
    }
   ],
   "source": [
    "# filtrando para pegar apenas os múltiplos de 3\n",
    "list(filter(lambda num:num%3==0, minha_lista))"
   ]
  },
  {
   "cell_type": "markdown",
   "id": "71e66cd6",
   "metadata": {},
   "source": [
    "## Desempacotando tuplas"
   ]
  },
  {
   "cell_type": "code",
   "execution_count": 34,
   "id": "7d679505",
   "metadata": {},
   "outputs": [],
   "source": [
    "lista_de_tuplas = [(1, 2), (3, 4), (212312, 21)]"
   ]
  },
  {
   "cell_type": "code",
   "execution_count": 38,
   "id": "576ff378",
   "metadata": {},
   "outputs": [
    {
     "name": "stdout",
     "output_type": "stream",
     "text": [
      "1\n",
      "3\n",
      "212312\n"
     ]
    }
   ],
   "source": [
    "for a, b in lista_de_tuplas:\n",
    "    print(a)"
   ]
  },
  {
   "cell_type": "code",
   "execution_count": null,
   "id": "96fe1b89",
   "metadata": {},
   "outputs": [],
   "source": []
  }
 ],
 "metadata": {
  "kernelspec": {
   "display_name": "Python 3 (ipykernel)",
   "language": "python",
   "name": "python3"
  },
  "language_info": {
   "codemirror_mode": {
    "name": "ipython",
    "version": 3
   },
   "file_extension": ".py",
   "mimetype": "text/x-python",
   "name": "python",
   "nbconvert_exporter": "python",
   "pygments_lexer": "ipython3",
   "version": "3.9.5"
  }
 },
 "nbformat": 4,
 "nbformat_minor": 5
}
